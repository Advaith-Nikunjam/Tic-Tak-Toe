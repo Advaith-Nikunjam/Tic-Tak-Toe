{
 "cells": [
  {
   "cell_type": "code",
   "execution_count": null,
   "id": "cfe198f9-49a2-4717-8c17-ca8e687ff3dd",
   "metadata": {},
   "outputs": [
    {
     "name": "stdout",
     "output_type": "stream",
     "text": [
      "[' ', ' ', ' ']\n",
      "[' ', ' ', ' ']\n",
      "[' ', ' ', ' ']\n"
     ]
    },
    {
     "name": "stdin",
     "output_type": "stream",
     "text": [
      "Enter the row you want to play (row1, row2, row3):  row1\n",
      "Enter the index at which you want to play (0, 1, 2):  2\n",
      "Enter the value (X or O):  0\n"
     ]
    },
    {
     "name": "stdout",
     "output_type": "stream",
     "text": [
      "[' ', ' ', '0']\n",
      "[' ', ' ', ' ']\n",
      "[' ', ' ', ' ']\n"
     ]
    },
    {
     "name": "stdin",
     "output_type": "stream",
     "text": [
      "Enter the row you want to play (row1, row2, row3):  row3\n",
      "Enter the index at which you want to play (0, 1, 2):  1\n",
      "Enter the value (X or O):  x\n"
     ]
    },
    {
     "name": "stdout",
     "output_type": "stream",
     "text": [
      "[' ', ' ', '0']\n",
      "[' ', ' ', ' ']\n",
      "[' ', 'x', ' ']\n"
     ]
    }
   ],
   "source": [
    "row1 = [\" \", \" \", \" \"]\n",
    "row2 = [\" \", \" \", \" \"]\n",
    "row3 = [\" \", \" \", \" \"]\n",
    "\n",
    "def display(row1, row2, row3):\n",
    "    print(row1)\n",
    "    print(row2)\n",
    "    print(row3)\n",
    "\n",
    "def play_game():\n",
    "    row1 = [\" \", \" \", \" \"]\n",
    "    row2 = [\" \", \" \", \" \"]\n",
    "    row3 = [\" \", \" \", \" \"]\n",
    "    x = 0\n",
    "    while x < 9:\n",
    "        display(row1, row2, row3)\n",
    "        enter_row = input(\"Enter the row you want to play (row1, row2, row3): \")\n",
    "        if enter_row == \"row1\":\n",
    "            position_index = int(input(\"Enter the index at which you want to play (0, 1, 2): \"))\n",
    "            value = input(\"Enter the value (X or O): \")\n",
    "            row1[position_index] = value\n",
    "        elif enter_row == \"row2\":\n",
    "            position_index = int(input(\"Enter the index at which you want to play (0, 1, 2): \"))\n",
    "            value = input(\"Enter the value (X or O): \")\n",
    "            row2[position_index] = value\n",
    "        elif enter_row == \"row3\":\n",
    "            position_index = int(input(\"Enter the index at which you want to play (0, 1, 2): \"))\n",
    "            value = input(\"Enter the value (X or O): \")\n",
    "            row3[position_index] = value\n",
    "        else:\n",
    "            print(\"Please enter a valid row (row1, row2, row3).\")\n",
    "            continue\n",
    "\n",
    "        x += 1\n",
    "\n",
    "    display(row1, row2, row3)\n",
    "\n",
    "play_game()"
   ]
  },
  {
   "cell_type": "code",
   "execution_count": null,
   "id": "b43c6c17-9246-4a13-af44-ae4bc47df97d",
   "metadata": {},
   "outputs": [],
   "source": []
  },
  {
   "cell_type": "code",
   "execution_count": null,
   "id": "9b3125f9-6c61-434b-9582-78cf279f837b",
   "metadata": {},
   "outputs": [],
   "source": []
  }
 ],
 "metadata": {
  "kernelspec": {
   "display_name": "Python 3 (ipykernel)",
   "language": "python",
   "name": "python3"
  },
  "language_info": {
   "codemirror_mode": {
    "name": "ipython",
    "version": 3
   },
   "file_extension": ".py",
   "mimetype": "text/x-python",
   "name": "python",
   "nbconvert_exporter": "python",
   "pygments_lexer": "ipython3",
   "version": "3.12.4"
  }
 },
 "nbformat": 4,
 "nbformat_minor": 5
}
